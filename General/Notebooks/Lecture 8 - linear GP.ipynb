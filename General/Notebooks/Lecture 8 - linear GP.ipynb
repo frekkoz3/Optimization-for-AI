{
 "cells": [
  {
   "cell_type": "markdown",
   "metadata": {
    "id": "C23tiesl216Y"
   },
   "source": [
    "# Linear GP\n",
    "\n",
    "Let us implement (from scratch) a linear GP system based on stack architecture.\n",
    "\n",
    "Recall that a stack has, like a stack of plates, two main operations:\n",
    "- ```push``` put a new element on the top of the stack\n",
    "- ```pop``` remove the element at the top of the stack\n",
    "\n",
    "To illustrate how a stack architecture works we start with an example.\n",
    "\n",
    "The program is ```3 4 5 + * 30 -``` and the stack is initially empty (i.e., ```[]```). Here the execution one instruction at a time:\n",
    "\n",
    "| Instruction | Stack |\n",
    "|-|-|\n",
    "| ```3``` | ```[3]``` |\n",
    "| ```4``` | ```[3, 4]``` |\n",
    "| ```5``` | ```[3, 4, 5]``` |\n",
    "| ```+``` | ```[3, 9]``` |\n",
    "| ```*``` | ```[27]``` |\n",
    "| ```30``` | ```[27 30]``` |\n",
    "| ```-``` | ```[3]``` |\n",
    "\n",
    "There are entire programming languages (called stack-based languages) where programming is done in this way. The most famous is Forth (see [Starting Forth](https://www.forth.com/starting-forth/) for an introduction)."
   ]
  },
  {
   "cell_type": "code",
   "execution_count": null,
   "metadata": {
    "executionInfo": {
     "elapsed": 741,
     "status": "ok",
     "timestamp": 1611139085043,
     "user": {
      "displayName": "Luca Manzoni",
      "photoUrl": "https://lh3.googleusercontent.com/a-/AOh14Ghe29ailJMHOhIfcMMV-n6KoyZgpvKhU0y8mcacAg=s64",
      "userId": "14224333895353448832"
     },
     "user_tz": -60
    },
    "id": "JMAmVX_KsBIh"
   },
   "outputs": [],
   "source": [
    "import enum\n",
    "import math\n",
    "import random"
   ]
  },
  {
   "cell_type": "markdown",
   "metadata": {
    "id": "nzZMh0BmylsG"
   },
   "source": [
    "The opcodes that we use are:\n",
    "- PLUS, MINUS, TIMES, DIVIDE, MOD. They perform exactly what their names imply using as arguments the two elments on the top of the stack.\n",
    "- DUP. Duplicate the element at the top of the stack.\n",
    "- SWAP. Swap the two elements at the top of the stack.\n",
    "- NOP. Perform no operation."
   ]
  },
  {
   "cell_type": "code",
   "execution_count": null,
   "metadata": {
    "id": "0LRy2KwssEOk"
   },
   "outputs": [],
   "source": [
    "opcodes = enum.Enum('opcodes', 'PLUS MINUS TIMES DIVIDE MOD DUP SWAP NOP')"
   ]
  },
  {
   "cell_type": "markdown",
   "metadata": {
    "id": "-vn7YtS6zwxy"
   },
   "source": [
    "A program $p = p_1, \\ldots, p_n$ is a sequence of instructions and constants. \n",
    "\n",
    "The stack has initial state $s = s_1, \\ldots, s_m$ with $s_m$ at the _top_ of the stack.\n",
    "\n",
    "The evaluation of $p_i$ is as follows:\n",
    "- If $p_i$ is an instruction then its arguments are removed from the top of the stack, the instruction is executed, and the results are pushed on the stack.\n",
    "- If $p_i$ is a constant, then it is pushed on the stack.\n",
    "- In any case, we move to evaluate $p_{i+1}$ or we halt returning the current stack if $i = n$."
   ]
  },
  {
   "cell_type": "code",
   "execution_count": null,
   "metadata": {
    "executionInfo": {
     "elapsed": 691,
     "status": "ok",
     "timestamp": 1611139273969,
     "user": {
      "displayName": "Luca Manzoni",
      "photoUrl": "https://lh3.googleusercontent.com/a-/AOh14Ghe29ailJMHOhIfcMMV-n6KoyZgpvKhU0y8mcacAg=s64",
      "userId": "14224333895353448832"
     },
     "user_tz": -60
    },
    "id": "QRZEo18bsgyY"
   },
   "outputs": [],
   "source": [
    "def eval(stack, program):\n",
    "  while program != []:\n",
    "      op = program[0]\n",
    "      program = program[1:]\n",
    "      if op == opcodes.PLUS:\n",
    "        op1 = stack.pop()\n",
    "        op2 = stack.pop()\n",
    "        stack.append(op1 + op2)\n",
    "      elif op == opcodes.MINUS:\n",
    "        op1 = stack.pop()\n",
    "        op2 = stack.pop()\n",
    "        stack.append(op1 - op2)\n",
    "      elif op == opcodes.TIMES:\n",
    "        op1 = stack.pop()\n",
    "        op2 = stack.pop()\n",
    "        stack.append(op1 * op2)\n",
    "      elif op == opcodes.DIVIDE:\n",
    "        op1 = stack.pop()\n",
    "        op2 = stack.pop()\n",
    "        stack.append(op1 / op2)\n",
    "      elif op == opcodes.MOD:\n",
    "        op1 = stack.pop()\n",
    "        op2 = stack.pop()\n",
    "        stack.append(op1 % op2)\n",
    "      elif op == opcodes.DUP:\n",
    "        tmp = stack.pop()\n",
    "        stack.append(tmp)\n",
    "        stack.append(tmp)\n",
    "      elif op == opcodes.SWAP:\n",
    "        tmp1 = stack.pop()\n",
    "        tmp2 = stack.pop()\n",
    "        stack.append(tmp1)\n",
    "        stack.append(tmp2)\n",
    "      elif op == opcodes.NOP:\n",
    "        pass\n",
    "      else:\n",
    "        stack.append(op)\n",
    "  return stack"
   ]
  },
  {
   "cell_type": "markdown",
   "metadata": {
    "id": "C8bE2ZuO0pQW"
   },
   "source": [
    "We generate a random program of length $n$ alternating randomly selected opcodes and constants (in this case integers between $-2$ and $2$)."
   ]
  },
  {
   "cell_type": "code",
   "execution_count": null,
   "metadata": {
    "executionInfo": {
     "elapsed": 909,
     "status": "ok",
     "timestamp": 1611139292988,
     "user": {
      "displayName": "Luca Manzoni",
      "photoUrl": "https://lh3.googleusercontent.com/a-/AOh14Ghe29ailJMHOhIfcMMV-n6KoyZgpvKhU0y8mcacAg=s64",
      "userId": "14224333895353448832"
     },
     "user_tz": -60
    },
    "id": "vYpxKYlSsteA"
   },
   "outputs": [],
   "source": [
    "def random_program(n):\n",
    "  prg = []\n",
    "  func = list(opcodes)\n",
    "  for i in range(0, n):\n",
    "    if random.random() < 0.5:\n",
    "      op = random.choice(func)\n",
    "    else:\n",
    "      op = random.randint(-2, 2)\n",
    "    prg.append(op)\n",
    "  return prg"
   ]
  },
  {
   "cell_type": "code",
   "execution_count": null,
   "metadata": {
    "colab": {
     "base_uri": "https://localhost:8080/"
    },
    "executionInfo": {
     "elapsed": 709,
     "status": "ok",
     "timestamp": 1611139301575,
     "user": {
      "displayName": "Luca Manzoni",
      "photoUrl": "https://lh3.googleusercontent.com/a-/AOh14Ghe29ailJMHOhIfcMMV-n6KoyZgpvKhU0y8mcacAg=s64",
      "userId": "14224333895353448832"
     },
     "user_tz": -60
    },
    "id": "nVaBG2jUYqS1",
    "outputId": "a5ca03ba-29f6-40e9-c7e0-1e0ae84e4563"
   },
   "outputs": [],
   "source": [
    "random_program(6)"
   ]
  },
  {
   "cell_type": "markdown",
   "metadata": {
    "id": "QWUVMdPu00B6"
   },
   "source": [
    "Tournament selection, being based on the phenotype, requires no changes."
   ]
  },
  {
   "cell_type": "code",
   "execution_count": null,
   "metadata": {
    "executionInfo": {
     "elapsed": 827,
     "status": "ok",
     "timestamp": 1611139383306,
     "user": {
      "displayName": "Luca Manzoni",
      "photoUrl": "https://lh3.googleusercontent.com/a-/AOh14Ghe29ailJMHOhIfcMMV-n6KoyZgpvKhU0y8mcacAg=s64",
      "userId": "14224333895353448832"
     },
     "user_tz": -60
    },
    "id": "BMXZBRvftt5b"
   },
   "outputs": [],
   "source": [
    "def tournament_selection(fit, pop, t_size=4):\n",
    "  tournament = random.choices(pop, k=t_size)\n",
    "  return min(tournament, key=fit)"
   ]
  },
  {
   "cell_type": "markdown",
   "metadata": {
    "id": "B1noKfC_2g8H"
   },
   "source": [
    "Also two points crossover is a direct generalization of one-point crossover. One important difference  here is that we are selecting _possibly different_ crossover points for the two parents, thus allowing individuals to shrink and grow."
   ]
  },
  {
   "cell_type": "code",
   "execution_count": null,
   "metadata": {
    "executionInfo": {
     "elapsed": 1604,
     "status": "ok",
     "timestamp": 1611139405035,
     "user": {
      "displayName": "Luca Manzoni",
      "photoUrl": "https://lh3.googleusercontent.com/a-/AOh14Ghe29ailJMHOhIfcMMV-n6KoyZgpvKhU0y8mcacAg=s64",
      "userId": "14224333895353448832"
     },
     "user_tz": -60
    },
    "id": "S90U5TLYvrVR"
   },
   "outputs": [],
   "source": [
    "def two_points_crossover(x, y):\n",
    "  k1 = random.randint(0, len(x)-1)\n",
    "  k2 = random.randint(k1, len(x)-1)\n",
    "  h1 = random.randint(0, len(y)-1)\n",
    "  h2 = random.randint(h1, len(y)-1)\n",
    "  of1 = x[0:k1] + y[h1:h2] + x[k2:]\n",
    "  of2 = y[0:h1] + x[k1:k2] + y[h2:]\n",
    "  return of1, of2"
   ]
  },
  {
   "cell_type": "markdown",
   "metadata": {
    "id": "zRCS0vdk2wMX"
   },
   "source": [
    "One easy mutation is to replace an instuction (opcode or constant) with another random opcode or constant."
   ]
  },
  {
   "cell_type": "code",
   "execution_count": null,
   "metadata": {
    "executionInfo": {
     "elapsed": 677,
     "status": "ok",
     "timestamp": 1611139424282,
     "user": {
      "displayName": "Luca Manzoni",
      "photoUrl": "https://lh3.googleusercontent.com/a-/AOh14Ghe29ailJMHOhIfcMMV-n6KoyZgpvKhU0y8mcacAg=s64",
      "userId": "14224333895353448832"
     },
     "user_tz": -60
    },
    "id": "-eFEFOvpzB0h"
   },
   "outputs": [],
   "source": [
    "def mutation(x, p_m):\n",
    "  def change(b):\n",
    "    if random.random() < p_m:\n",
    "      if random.random() < 0.5:\n",
    "        op = random.choice(list(opcodes))\n",
    "      else:\n",
    "        op = random.randint(-2, 2)\n",
    "      return op\n",
    "    else:\n",
    "      return b\n",
    "\n",
    "  return [change(b) for b in x]"
   ]
  },
  {
   "cell_type": "markdown",
   "metadata": {
    "id": "iWiWB0RW28bI"
   },
   "source": [
    "Now LinearGP can be implemented in a way similar to GA."
   ]
  },
  {
   "cell_type": "code",
   "execution_count": null,
   "metadata": {
    "executionInfo": {
     "elapsed": 684,
     "status": "ok",
     "timestamp": 1611139519370,
     "user": {
      "displayName": "Luca Manzoni",
      "photoUrl": "https://lh3.googleusercontent.com/a-/AOh14Ghe29ailJMHOhIfcMMV-n6KoyZgpvKhU0y8mcacAg=s64",
      "userId": "14224333895353448832"
     },
     "user_tz": -60
    },
    "id": "3E_IpPXC0GFh"
   },
   "outputs": [],
   "source": [
    "def linear_GP(fit, pop_size, n_iter = 100):\n",
    "  p_m = 0.1\n",
    "  pop = [random_program(5) for _ in range(0, pop_size)]\n",
    "  best = []\n",
    "  for i in range(0, n_iter):\n",
    "    selected = [tournament_selection(fit, pop) for _ in range(0, pop_size)]\n",
    "    pairs = zip(selected, selected[1:] + [selected[0]])\n",
    "    offsprings = []\n",
    "    for x, y in pairs:\n",
    "      of1, of2 = two_points_crossover(x, y)\n",
    "      offsprings.append(of1)\n",
    "      # offsprings.append(of2)\n",
    "    pop = [mutation(x, p_m) for x in offsprings]\n",
    "    candidate_best = min(pop, key=fit)\n",
    "    if fit(candidate_best) < fit(best):\n",
    "      best = candidate_best\n",
    "    if fit(best) == 0:\n",
    "      return best\n",
    "    # print(f\"Best individual at generation {i}: {best}\")\n",
    "    print(f\"Best fitness at generation {i}: {fit(best)}\")\n",
    "  return best"
   ]
  },
  {
   "cell_type": "markdown",
   "metadata": {
    "id": "96NqHl3u3DAT"
   },
   "source": [
    "Our fitness function computes the MSE on $100$ points (all integers from $0$ to $99$) where the target function that we want to learn is $x^2 + 3x + 2$.\n",
    "\n",
    "Notice that the input is given by putting a non-empty stack in the initial state and that if an error occur (e.g., trying to pop for an empty stack) $+ \\infty$ fitness value is returned"
   ]
  },
  {
   "cell_type": "code",
   "execution_count": null,
   "metadata": {
    "executionInfo": {
     "elapsed": 1005,
     "status": "ok",
     "timestamp": 1611139617154,
     "user": {
      "displayName": "Luca Manzoni",
      "photoUrl": "https://lh3.googleusercontent.com/a-/AOh14Ghe29ailJMHOhIfcMMV-n6KoyZgpvKhU0y8mcacAg=s64",
      "userId": "14224333895353448832"
     },
     "user_tz": -60
    },
    "id": "TKtJeQJ01Xym"
   },
   "outputs": [],
   "source": [
    "def fit(prg):\n",
    "  data = [(i, i**2 + 3*i + 2) for i in range(0, 100)]\n",
    "  sq_errors = 0\n",
    "  for x, y in data:\n",
    "    try:\n",
    "      stack = eval([x], prg)\n",
    "    except Exception:\n",
    "      return math.inf\n",
    "    if stack == []:\n",
    "      return math.inf\n",
    "    else:\n",
    "      sq_errors += (y - stack.pop())**2\n",
    "  return sq_errors/len(data)"
   ]
  },
  {
   "cell_type": "markdown",
   "metadata": {
    "id": "1LN31Ogx3pk6"
   },
   "source": [
    "Let us see if we can learn the function..."
   ]
  },
  {
   "cell_type": "code",
   "execution_count": null,
   "metadata": {
    "colab": {
     "base_uri": "https://localhost:8080/"
    },
    "executionInfo": {
     "elapsed": 23616,
     "status": "ok",
     "timestamp": 1611139644830,
     "user": {
      "displayName": "Luca Manzoni",
      "photoUrl": "https://lh3.googleusercontent.com/a-/AOh14Ghe29ailJMHOhIfcMMV-n6KoyZgpvKhU0y8mcacAg=s64",
      "userId": "14224333895353448832"
     },
     "user_tz": -60
    },
    "id": "N2nTTe1G1_Xp",
    "outputId": "88093839-fa27-4126-e7fe-48459e98aa85"
   },
   "outputs": [],
   "source": [
    "random.seed(0)\n",
    "linear_GP(fit, 200)"
   ]
  },
  {
   "cell_type": "code",
   "execution_count": null,
   "metadata": {},
   "outputs": [],
   "source": []
  }
 ],
 "metadata": {
  "colab": {
   "authorship_tag": "ABX9TyOtBSLVfzny2xCydzYT29WE",
   "collapsed_sections": [],
   "name": "Lecture 2 - linear GP.ipynb",
   "provenance": []
  },
  "kernelspec": {
   "display_name": "default",
   "language": "python",
   "name": "python3"
  },
  "language_info": {
   "codemirror_mode": {
    "name": "ipython",
    "version": 3
   },
   "file_extension": ".py",
   "mimetype": "text/x-python",
   "name": "python",
   "nbconvert_exporter": "python",
   "pygments_lexer": "ipython3",
   "version": "3.13.7"
  }
 },
 "nbformat": 4,
 "nbformat_minor": 4
}
