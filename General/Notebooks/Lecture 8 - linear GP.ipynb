{
 "cells": [
  {
   "cell_type": "markdown",
   "metadata": {
    "id": "C23tiesl216Y"
   },
   "source": [
    "# Linear GP\n",
    "\n",
    "Let us implement (from scratch) a linear GP system based on stack architecture.\n",
    "\n",
    "Recall that a stack has, like a stack of plates, two main operations:\n",
    "- ```push``` put a new element on the top of the stack\n",
    "- ```pop``` remove the element at the top of the stack\n",
    "\n",
    "To illustrate how a stack architecture works we start with an example.\n",
    "\n",
    "The program is ```3 4 5 + * 30 -``` and the stack is initially empty (i.e., ```[]```). Here the execution one instruction at a time:\n",
    "\n",
    "| Instruction | Stack |\n",
    "|-|-|\n",
    "| ```3``` | ```[3]``` |\n",
    "| ```4``` | ```[3, 4]``` |\n",
    "| ```5``` | ```[3, 4, 5]``` |\n",
    "| ```+``` | ```[3, 9]``` |\n",
    "| ```*``` | ```[27]``` |\n",
    "| ```30``` | ```[27 30]``` |\n",
    "| ```-``` | ```[3]``` |\n",
    "\n",
    "There are entire programming languages (called stack-based languages) where programming is done in this way. The most famous is Forth (see [Starting Forth](https://www.forth.com/starting-forth/) for an introduction)."
   ]
  },
  {
   "cell_type": "code",
   "execution_count": 131,
   "metadata": {
    "executionInfo": {
     "elapsed": 741,
     "status": "ok",
     "timestamp": 1611139085043,
     "user": {
      "displayName": "Luca Manzoni",
      "photoUrl": "https://lh3.googleusercontent.com/a-/AOh14Ghe29ailJMHOhIfcMMV-n6KoyZgpvKhU0y8mcacAg=s64",
      "userId": "14224333895353448832"
     },
     "user_tz": -60
    },
    "id": "JMAmVX_KsBIh"
   },
   "outputs": [],
   "source": [
    "import enum\n",
    "import math\n",
    "import random"
   ]
  },
  {
   "cell_type": "markdown",
   "metadata": {
    "id": "nzZMh0BmylsG"
   },
   "source": [
    "The opcodes that we use are:\n",
    "- PLUS, MINUS, TIMES, DIVIDE, MOD. They perform exactly what their names imply using as arguments the two elments on the top of the stack.\n",
    "- DUP. Duplicate the element at the top of the stack.\n",
    "- SWAP. Swap the two elements at the top of the stack.\n",
    "- NOP. Perform no operation."
   ]
  },
  {
   "cell_type": "code",
   "execution_count": 132,
   "metadata": {
    "id": "0LRy2KwssEOk"
   },
   "outputs": [],
   "source": [
    "opcodes = enum.Enum('opcodes', 'PLUS MINUS TIMES DIVIDE MOD DUP SWAP NOP')"
   ]
  },
  {
   "cell_type": "code",
   "execution_count": 133,
   "metadata": {},
   "outputs": [],
   "source": [
    "def print_prg(prg : list):\n",
    "    for block in prg:\n",
    "        if type(block) is not int:\n",
    "            print(f\"{block.name} \", end = \"\")\n",
    "        else:\n",
    "            print(f\"{block} \", end = \"\")\n",
    "    print()"
   ]
  },
  {
   "cell_type": "markdown",
   "metadata": {
    "id": "-vn7YtS6zwxy"
   },
   "source": [
    "A program $p = p_1, \\ldots, p_n$ is a sequence of instructions and constants. \n",
    "\n",
    "The stack has initial state $s = s_1, \\ldots, s_m$ with $s_m$ at the _top_ of the stack.\n",
    "\n",
    "The evaluation of $p_i$ is as follows:\n",
    "- If $p_i$ is an instruction then its arguments are removed from the top of the stack, the instruction is executed, and the results are pushed on the stack.\n",
    "- If $p_i$ is a constant, then it is pushed on the stack.\n",
    "- In any case, we move to evaluate $p_{i+1}$ or we halt returning the current stack if $i = n$."
   ]
  },
  {
   "cell_type": "code",
   "execution_count": 134,
   "metadata": {
    "executionInfo": {
     "elapsed": 691,
     "status": "ok",
     "timestamp": 1611139273969,
     "user": {
      "displayName": "Luca Manzoni",
      "photoUrl": "https://lh3.googleusercontent.com/a-/AOh14Ghe29ailJMHOhIfcMMV-n6KoyZgpvKhU0y8mcacAg=s64",
      "userId": "14224333895353448832"
     },
     "user_tz": -60
    },
    "id": "QRZEo18bsgyY"
   },
   "outputs": [],
   "source": [
    "def eval(stack, program):\n",
    "  while program != []:\n",
    "      op = program[0]\n",
    "      program = program[1:]\n",
    "      if op == opcodes.PLUS:\n",
    "        op1 = stack.pop()\n",
    "        op2 = stack.pop()\n",
    "        stack.append(op1 + op2)\n",
    "      elif op == opcodes.MINUS:\n",
    "        op1 = stack.pop()\n",
    "        op2 = stack.pop()\n",
    "        stack.append(op1 - op2)\n",
    "      elif op == opcodes.TIMES:\n",
    "        op1 = stack.pop()\n",
    "        op2 = stack.pop()\n",
    "        stack.append(op1 * op2)\n",
    "      elif op == opcodes.DIVIDE:\n",
    "        op1 = stack.pop()\n",
    "        op2 = stack.pop()\n",
    "        stack.append(op1 / op2)\n",
    "      elif op == opcodes.MOD:\n",
    "        op1 = stack.pop()\n",
    "        op2 = stack.pop()\n",
    "        stack.append(op1 % op2)\n",
    "      elif op == opcodes.DUP:\n",
    "        tmp = stack.pop()\n",
    "        stack.append(tmp)\n",
    "        stack.append(tmp)\n",
    "      elif op == opcodes.SWAP:\n",
    "        tmp1 = stack.pop()\n",
    "        tmp2 = stack.pop()\n",
    "        stack.append(tmp1)\n",
    "        stack.append(tmp2)\n",
    "      elif op == opcodes.NOP:\n",
    "        pass\n",
    "      else:\n",
    "        stack.append(op)\n",
    "  return stack"
   ]
  },
  {
   "cell_type": "markdown",
   "metadata": {
    "id": "C8bE2ZuO0pQW"
   },
   "source": [
    "We generate a random program of length $n$ alternating randomly selected opcodes and constants (in this case integers between $-2$ and $2$)."
   ]
  },
  {
   "cell_type": "code",
   "execution_count": 135,
   "metadata": {
    "executionInfo": {
     "elapsed": 909,
     "status": "ok",
     "timestamp": 1611139292988,
     "user": {
      "displayName": "Luca Manzoni",
      "photoUrl": "https://lh3.googleusercontent.com/a-/AOh14Ghe29ailJMHOhIfcMMV-n6KoyZgpvKhU0y8mcacAg=s64",
      "userId": "14224333895353448832"
     },
     "user_tz": -60
    },
    "id": "vYpxKYlSsteA"
   },
   "outputs": [],
   "source": [
    "def random_program(n):\n",
    "  prg = []\n",
    "  func = list(opcodes)\n",
    "  for i in range(0, n):\n",
    "    if random.random() < 0.5:\n",
    "      op = random.choice(func)\n",
    "    else:\n",
    "      op = random.randint(-2, 2)\n",
    "    prg.append(op)\n",
    "  return prg"
   ]
  },
  {
   "cell_type": "code",
   "execution_count": 136,
   "metadata": {
    "colab": {
     "base_uri": "https://localhost:8080/"
    },
    "executionInfo": {
     "elapsed": 709,
     "status": "ok",
     "timestamp": 1611139301575,
     "user": {
      "displayName": "Luca Manzoni",
      "photoUrl": "https://lh3.googleusercontent.com/a-/AOh14Ghe29ailJMHOhIfcMMV-n6KoyZgpvKhU0y8mcacAg=s64",
      "userId": "14224333895353448832"
     },
     "user_tz": -60
    },
    "id": "nVaBG2jUYqS1",
    "outputId": "a5ca03ba-29f6-40e9-c7e0-1e0ae84e4563"
   },
   "outputs": [
    {
     "name": "stdout",
     "output_type": "stream",
     "text": [
      "0 PLUS MINUS 2 1 2 \n"
     ]
    }
   ],
   "source": [
    "print_prg(random_program(6))"
   ]
  },
  {
   "cell_type": "markdown",
   "metadata": {
    "id": "QWUVMdPu00B6"
   },
   "source": [
    "Tournament selection, being based on the phenotype, requires no changes."
   ]
  },
  {
   "cell_type": "code",
   "execution_count": 137,
   "metadata": {
    "executionInfo": {
     "elapsed": 827,
     "status": "ok",
     "timestamp": 1611139383306,
     "user": {
      "displayName": "Luca Manzoni",
      "photoUrl": "https://lh3.googleusercontent.com/a-/AOh14Ghe29ailJMHOhIfcMMV-n6KoyZgpvKhU0y8mcacAg=s64",
      "userId": "14224333895353448832"
     },
     "user_tz": -60
    },
    "id": "BMXZBRvftt5b"
   },
   "outputs": [],
   "source": [
    "def tournament_selection(fit, pop, t_size=4):\n",
    "  tournament = random.choices(pop, k=t_size)\n",
    "  return min(tournament, key=fit)"
   ]
  },
  {
   "cell_type": "markdown",
   "metadata": {
    "id": "B1noKfC_2g8H"
   },
   "source": [
    "Also two points crossover is a direct generalization of one-point crossover. One important difference  here is that we are selecting _possibly different_ crossover points for the two parents, thus allowing individuals to shrink and grow."
   ]
  },
  {
   "cell_type": "code",
   "execution_count": 138,
   "metadata": {
    "executionInfo": {
     "elapsed": 1604,
     "status": "ok",
     "timestamp": 1611139405035,
     "user": {
      "displayName": "Luca Manzoni",
      "photoUrl": "https://lh3.googleusercontent.com/a-/AOh14Ghe29ailJMHOhIfcMMV-n6KoyZgpvKhU0y8mcacAg=s64",
      "userId": "14224333895353448832"
     },
     "user_tz": -60
    },
    "id": "S90U5TLYvrVR"
   },
   "outputs": [],
   "source": [
    "def two_points_crossover(x, y):\n",
    "  k1 = random.randint(0, len(x)-1)\n",
    "  k2 = random.randint(k1, len(x)-1)\n",
    "  h1 = random.randint(0, len(y)-1)\n",
    "  h2 = random.randint(h1, len(y)-1)\n",
    "  of1 = x[0:k1] + y[h1:h2] + x[k2:]\n",
    "  of2 = y[0:h1] + x[k1:k2] + y[h2:]\n",
    "  return of1, of2"
   ]
  },
  {
   "cell_type": "markdown",
   "metadata": {
    "id": "zRCS0vdk2wMX"
   },
   "source": [
    "One easy mutation is to replace an instuction (opcode or constant) with another random opcode or constant."
   ]
  },
  {
   "cell_type": "code",
   "execution_count": 139,
   "metadata": {
    "executionInfo": {
     "elapsed": 677,
     "status": "ok",
     "timestamp": 1611139424282,
     "user": {
      "displayName": "Luca Manzoni",
      "photoUrl": "https://lh3.googleusercontent.com/a-/AOh14Ghe29ailJMHOhIfcMMV-n6KoyZgpvKhU0y8mcacAg=s64",
      "userId": "14224333895353448832"
     },
     "user_tz": -60
    },
    "id": "-eFEFOvpzB0h"
   },
   "outputs": [],
   "source": [
    "def mutation(x, p_m):\n",
    "  def change(b):\n",
    "    if random.random() < p_m:\n",
    "      if random.random() < 0.5:\n",
    "        op = random.choice(list(opcodes))\n",
    "      else:\n",
    "        op = random.randint(-2, 2)\n",
    "      return op\n",
    "    else:\n",
    "      return b\n",
    "\n",
    "  return [change(b) for b in x]"
   ]
  },
  {
   "cell_type": "markdown",
   "metadata": {
    "id": "iWiWB0RW28bI"
   },
   "source": [
    "Now LinearGP can be implemented in a way similar to GA."
   ]
  },
  {
   "cell_type": "code",
   "execution_count": null,
   "metadata": {
    "executionInfo": {
     "elapsed": 684,
     "status": "ok",
     "timestamp": 1611139519370,
     "user": {
      "displayName": "Luca Manzoni",
      "photoUrl": "https://lh3.googleusercontent.com/a-/AOh14Ghe29ailJMHOhIfcMMV-n6KoyZgpvKhU0y8mcacAg=s64",
      "userId": "14224333895353448832"
     },
     "user_tz": -60
    },
    "id": "3E_IpPXC0GFh"
   },
   "outputs": [],
   "source": [
    "def linear_GP(fit, pop_size, n_iter = 100):\n",
    "  p_m = 0.3\n",
    "  pop = [random_program(7) for _ in range(0, pop_size)]\n",
    "  best = []\n",
    "  for i in range(0, n_iter):\n",
    "    p_m = max(p_m * 0.99, 0.1) # linear scheduler for the mutation probability \n",
    "    selected = [tournament_selection(fit, pop) for _ in range(0, pop_size)]\n",
    "    pairs = zip(selected, selected[1:] + [selected[0]])\n",
    "    offsprings = []\n",
    "    for x, y in pairs:\n",
    "      of1, of2 = two_points_crossover(x, y)\n",
    "      offsprings.append(of1)\n",
    "      # offsprings.append(of2)\n",
    "    pop = [mutation(x, p_m) for x in offsprings]\n",
    "    candidate_best = min(pop, key=fit)\n",
    "    if fit(candidate_best) < fit(best):\n",
    "      best = candidate_best\n",
    "    if fit(best) == 0:\n",
    "      return best\n",
    "    # print(f\"Best individual at generation {i}: {best}\")\n",
    "    print(f\"Best fitness at generation {i}: {fit(best)} [pm = {p_m}]\")\n",
    "  return best"
   ]
  },
  {
   "cell_type": "markdown",
   "metadata": {
    "id": "96NqHl3u3DAT"
   },
   "source": [
    "Our fitness function computes the MSE on $100$ points (all integers from $0$ to $99$) where the target function that we want to learn is $x^2 + 3x + 2$.\n",
    "\n",
    "Notice that the input is given by putting a non-empty stack in the initial state and that if an error occur (e.g., trying to pop for an empty stack) $+ \\infty$ fitness value is returned"
   ]
  },
  {
   "cell_type": "code",
   "execution_count": 145,
   "metadata": {
    "executionInfo": {
     "elapsed": 1005,
     "status": "ok",
     "timestamp": 1611139617154,
     "user": {
      "displayName": "Luca Manzoni",
      "photoUrl": "https://lh3.googleusercontent.com/a-/AOh14Ghe29ailJMHOhIfcMMV-n6KoyZgpvKhU0y8mcacAg=s64",
      "userId": "14224333895353448832"
     },
     "user_tz": -60
    },
    "id": "TKtJeQJ01Xym"
   },
   "outputs": [],
   "source": [
    "def fit_with_target(target_fun):\n",
    "  def fit(prg):\n",
    "    data = [(i, target_fun(i)) for i in range(0, 100)]\n",
    "    sq_errors = 0\n",
    "    for x, y in data:\n",
    "      try:\n",
    "        stack = eval([x], prg)\n",
    "      except Exception:\n",
    "        return math.inf\n",
    "      if stack == []:\n",
    "        return math.inf\n",
    "      else:\n",
    "        sq_errors += (y - stack.pop())**2\n",
    "    return sq_errors/len(data)\n",
    "  return fit"
   ]
  },
  {
   "cell_type": "markdown",
   "metadata": {
    "id": "1LN31Ogx3pk6"
   },
   "source": [
    "Let us see if we can learn the function..."
   ]
  },
  {
   "cell_type": "code",
   "execution_count": null,
   "metadata": {
    "colab": {
     "base_uri": "https://localhost:8080/"
    },
    "executionInfo": {
     "elapsed": 23616,
     "status": "ok",
     "timestamp": 1611139644830,
     "user": {
      "displayName": "Luca Manzoni",
      "photoUrl": "https://lh3.googleusercontent.com/a-/AOh14Ghe29ailJMHOhIfcMMV-n6KoyZgpvKhU0y8mcacAg=s64",
      "userId": "14224333895353448832"
     },
     "user_tz": -60
    },
    "id": "N2nTTe1G1_Xp",
    "outputId": "88093839-fa27-4126-e7fe-48459e98aa85"
   },
   "outputs": [
    {
     "name": "stdout",
     "output_type": "stream",
     "text": [
      "Best fitness at generation 0: 477640270.5 [pm = 0.297]\n",
      "Best fitness at generation 1: 475284826.0 [pm = 0.29402999999999996]\n",
      "Best fitness at generation 2: 475284826.0 [pm = 0.29108969999999995]\n",
      "Best fitness at generation 3: 465733162.0 [pm = 0.28817880299999993]\n",
      "Best fitness at generation 4: 465733162.0 [pm = 0.28529701496999993]\n",
      "Best fitness at generation 5: 465733162.0 [pm = 0.28244404482029994]\n",
      "Best fitness at generation 6: 465733162.0 [pm = 0.27961960437209693]\n",
      "Best fitness at generation 7: 302154058.3 [pm = 0.276823408328376]\n",
      "Best fitness at generation 8: 302154058.3 [pm = 0.27405517424509224]\n",
      "Best fitness at generation 9: 302154058.3 [pm = 0.2713146225026413]\n",
      "Best fitness at generation 10: 302154058.3 [pm = 0.2686014762776149]\n",
      "Best fitness at generation 11: 302154058.3 [pm = 0.26591546151483875]\n",
      "Best fitness at generation 12: 302154058.3 [pm = 0.2632563068996904]\n",
      "Best fitness at generation 13: 302154058.3 [pm = 0.2606237438306935]\n",
      "Best fitness at generation 14: 302154058.3 [pm = 0.2580175063923865]\n",
      "Best fitness at generation 15: 302154058.3 [pm = 0.25543733132846264]\n",
      "Best fitness at generation 16: 302154058.3 [pm = 0.252882958015178]\n",
      "Best fitness at generation 17: 302154058.3 [pm = 0.25035412843502625]\n",
      "Best fitness at generation 18: 302154058.3 [pm = 0.24785058715067598]\n",
      "Best fitness at generation 19: 302154058.3 [pm = 0.2453720812791692]\n",
      "Best fitness at generation 20: 302154058.3 [pm = 0.24291836046637752]\n",
      "Best fitness at generation 21: 302154058.3 [pm = 0.24048917686171375]\n",
      "Best fitness at generation 22: 302154058.3 [pm = 0.23808428509309662]\n",
      "Best fitness at generation 23: 302154058.3 [pm = 0.23570344224216566]\n",
      "Best fitness at generation 24: 302154058.3 [pm = 0.233346407819744]\n",
      "Best fitness at generation 25: 302154058.3 [pm = 0.23101294374154654]\n",
      "Best fitness at generation 26: 302154058.3 [pm = 0.22870281430413109]\n",
      "Best fitness at generation 27: 302154058.3 [pm = 0.22641578616108976]\n",
      "Best fitness at generation 28: 302154058.3 [pm = 0.22415162829947885]\n",
      "Best fitness at generation 29: 302154058.3 [pm = 0.22191011201648406]\n",
      "Best fitness at generation 30: 302154058.3 [pm = 0.2196910108963192]\n",
      "Best fitness at generation 31: 302154058.3 [pm = 0.217494100787356]\n",
      "Best fitness at generation 32: 302154058.3 [pm = 0.21531915977948246]\n",
      "Best fitness at generation 33: 302154058.3 [pm = 0.21316596818168762]\n",
      "Best fitness at generation 34: 302154058.3 [pm = 0.21103430849987073]\n",
      "Best fitness at generation 35: 302154058.3 [pm = 0.20892396541487201]\n",
      "Best fitness at generation 36: 302154058.3 [pm = 0.2068347257607233]\n",
      "Best fitness at generation 37: 302154058.3 [pm = 0.20476637850311605]\n",
      "Best fitness at generation 38: 302154058.3 [pm = 0.2027187147180849]\n",
      "Best fitness at generation 39: 302154058.3 [pm = 0.20069152757090403]\n",
      "Best fitness at generation 40: 302154058.3 [pm = 0.198684612295195]\n",
      "Best fitness at generation 41: 302154058.3 [pm = 0.19669776617224305]\n",
      "Best fitness at generation 42: 302154058.3 [pm = 0.1947307885105206]\n",
      "Best fitness at generation 43: 302154058.3 [pm = 0.1927834806254154]\n",
      "Best fitness at generation 44: 302154058.3 [pm = 0.19085564581916123]\n",
      "Best fitness at generation 45: 302154058.3 [pm = 0.18894708936096963]\n",
      "Best fitness at generation 46: 302154058.3 [pm = 0.18705761846735994]\n",
      "Best fitness at generation 47: 302154058.3 [pm = 0.18518704228268634]\n",
      "Best fitness at generation 48: 302154058.3 [pm = 0.18333517185985948]\n",
      "Best fitness at generation 49: 302154058.3 [pm = 0.18150182014126087]\n",
      "Best fitness at generation 50: 302154058.3 [pm = 0.17968680193984826]\n",
      "Best fitness at generation 51: 302154058.3 [pm = 0.17788993392044977]\n",
      "Best fitness at generation 52: 302154058.3 [pm = 0.17611103458124527]\n",
      "Best fitness at generation 53: 302154058.3 [pm = 0.17434992423543283]\n",
      "Best fitness at generation 54: 302154058.3 [pm = 0.1726064249930785]\n",
      "Best fitness at generation 55: 302154058.3 [pm = 0.1708803607431477]\n",
      "Best fitness at generation 56: 302154058.3 [pm = 0.16917155713571622]\n",
      "Best fitness at generation 57: 302154058.3 [pm = 0.16747984156435905]\n",
      "Best fitness at generation 58: 302154058.3 [pm = 0.16580504314871547]\n",
      "Best fitness at generation 59: 302154058.3 [pm = 0.16414699271722832]\n",
      "Best fitness at generation 60: 302154058.3 [pm = 0.16250552279005603]\n",
      "Best fitness at generation 61: 302154058.3 [pm = 0.16088046756215546]\n",
      "Best fitness at generation 62: 302154058.3 [pm = 0.1592716628865339]\n",
      "Best fitness at generation 63: 302154058.3 [pm = 0.15767894625766857]\n",
      "Best fitness at generation 64: 302154058.3 [pm = 0.15610215679509187]\n",
      "Best fitness at generation 65: 302154058.3 [pm = 0.15454113522714094]\n",
      "Best fitness at generation 66: 302154058.3 [pm = 0.15299572387486954]\n",
      "Best fitness at generation 67: 302154058.3 [pm = 0.15146576663612085]\n",
      "Best fitness at generation 68: 302154058.3 [pm = 0.14995110896975963]\n",
      "Best fitness at generation 69: 302154058.3 [pm = 0.14845159788006204]\n",
      "Best fitness at generation 70: 302154058.3 [pm = 0.14696708190126143]\n",
      "Best fitness at generation 71: 302154058.3 [pm = 0.1454974110822488]\n",
      "Best fitness at generation 72: 171071501.2 [pm = 0.14404243697142632]\n",
      "Best fitness at generation 73: 18037670.8 [pm = 0.14260201260171207]\n",
      "Best fitness at generation 74: 18037670.8 [pm = 0.14117599247569496]\n",
      "Best fitness at generation 75: 18037670.8 [pm = 0.139764232550938]\n",
      "Best fitness at generation 76: 18037670.8 [pm = 0.13836659022542863]\n",
      "Best fitness at generation 77: 18037670.8 [pm = 0.13698292432317435]\n",
      "Best fitness at generation 78: 18037670.8 [pm = 0.1356130950799426]\n",
      "Best fitness at generation 79: 18037670.8 [pm = 0.13425696412914317]\n",
      "Best fitness at generation 80: 18037670.8 [pm = 0.13291439448785175]\n",
      "Best fitness at generation 81: 18037670.8 [pm = 0.13158525054297324]\n",
      "Best fitness at generation 82: 18037670.8 [pm = 0.1302693980375435]\n",
      "Best fitness at generation 83: 18037670.8 [pm = 0.12896670405716806]\n",
      "Best fitness at generation 84: 18037670.8 [pm = 0.12767703701659638]\n",
      "Best fitness at generation 85: 18037670.8 [pm = 0.12640026664643042]\n",
      "Best fitness at generation 86: 18037670.8 [pm = 0.1251362639799661]\n",
      "Best fitness at generation 87: 18037670.8 [pm = 0.12388490134016644]\n",
      "Best fitness at generation 88: 18037670.8 [pm = 0.12264605232676477]\n",
      "Best fitness at generation 89: 18037670.8 [pm = 0.12141959180349712]\n",
      "Best fitness at generation 90: 18037670.8 [pm = 0.12020539588546215]\n",
      "Best fitness at generation 91: 18037670.8 [pm = 0.11900334192660753]\n",
      "Best fitness at generation 92: 18037670.8 [pm = 0.11781330850734145]\n",
      "Best fitness at generation 93: 18037670.8 [pm = 0.11663517542226803]\n",
      "Best fitness at generation 94: 18037670.8 [pm = 0.11546882366804535]\n",
      "Best fitness at generation 95: 18037670.8 [pm = 0.1143141354313649]\n",
      "Best fitness at generation 96: 18037670.8 [pm = 0.11317099407705125]\n",
      "Best fitness at generation 97: 18037670.8 [pm = 0.11203928413628074]\n",
      "Best fitness at generation 98: 18037670.8 [pm = 0.11091889129491793]\n",
      "Best fitness at generation 99: 18037670.8 [pm = 0.10980970238196874]\n"
     ]
    }
   ],
   "source": [
    "random.seed(0)\n",
    "best = linear_GP(fit_with_target(lambda x : x**2), 300)"
   ]
  },
  {
   "cell_type": "code",
   "execution_count": 144,
   "metadata": {},
   "outputs": [
    {
     "name": "stdout",
     "output_type": "stream",
     "text": [
      "[-4]\n",
      "DUP -2 -2 PLUS TIMES TIMES \n"
     ]
    }
   ],
   "source": [
    "print(eval([1], best))\n",
    "print_prg(best)"
   ]
  },
  {
   "cell_type": "markdown",
   "metadata": {},
   "source": [
    "$$\n",
    "[x] \\\\\n",
    "[x,x] \\\\\n",
    "[(x*x)] \\\\\n",
    "[(x*x),-2] \\\\\n",
    "[(x*x)-(-2)]\\\\\n",
    "x^2 + 2\n",
    "$$"
   ]
  }
 ],
 "metadata": {
  "colab": {
   "authorship_tag": "ABX9TyOtBSLVfzny2xCydzYT29WE",
   "collapsed_sections": [],
   "name": "Lecture 2 - linear GP.ipynb",
   "provenance": []
  },
  "kernelspec": {
   "display_name": "venv",
   "language": "python",
   "name": "venv"
  },
  "language_info": {
   "codemirror_mode": {
    "name": "ipython",
    "version": 3
   },
   "file_extension": ".py",
   "mimetype": "text/x-python",
   "name": "python",
   "nbconvert_exporter": "python",
   "pygments_lexer": "ipython3",
   "version": "3.13.7"
  }
 },
 "nbformat": 4,
 "nbformat_minor": 4
}
